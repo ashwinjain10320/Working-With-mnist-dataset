{
  "nbformat": 4,
  "nbformat_minor": 0,
  "metadata": {
    "accelerator": "GPU",
    "colab": {
      "name": "Digit_Detection.ipynb",
      "provenance": [],
      "collapsed_sections": []
    },
    "kernelspec": {
      "display_name": "Python 3",
      "name": "python3"
    },
    "language_info": {
      "name": "python"
    }
  },
  "cells": [
    {
      "cell_type": "markdown",
      "metadata": {
        "id": "aOlvijfgcSLI"
      },
      "source": [
        "# Importing Libraries"
      ]
    },
    {
      "cell_type": "code",
      "metadata": {
        "id": "uv9Ec1cn455D"
      },
      "source": [
        "import numpy as np\n",
        "import pandas as pd\n",
        "import os\n",
        "import matplotlib.pyplot as plt\n",
        "import tensorflow as tf\n",
        "import seaborn as sns"
      ],
      "execution_count": 1,
      "outputs": []
    },
    {
      "cell_type": "markdown",
      "metadata": {
        "id": "V93LFy19cZhg"
      },
      "source": [
        "# Loading data set"
      ]
    },
    {
      "cell_type": "code",
      "metadata": {
        "colab": {
          "base_uri": "https://localhost:8080/"
        },
        "id": "Z6M9Evcp44AH",
        "outputId": "c086543b-88d6-4713-a8d8-aa58c9ae3bd1"
      },
      "source": [
        "mnist = tf.keras.datasets.mnist\n",
        "(X_train1,y_train1),(X_test,y_test) = mnist.load_data()"
      ],
      "execution_count": 2,
      "outputs": [
        {
          "output_type": "stream",
          "text": [
            "Downloading data from https://storage.googleapis.com/tensorflow/tf-keras-datasets/mnist.npz\n",
            "11493376/11490434 [==============================] - 0s 0us/step\n"
          ],
          "name": "stdout"
        }
      ]
    },
    {
      "cell_type": "code",
      "metadata": {
        "colab": {
          "base_uri": "https://localhost:8080/"
        },
        "id": "0x0vvZcy5Z0g",
        "outputId": "d17c841f-203e-40ae-8234-90e2df82d7d6"
      },
      "source": [
        "X_train1.shape"
      ],
      "execution_count": 3,
      "outputs": [
        {
          "output_type": "execute_result",
          "data": {
            "text/plain": [
              "(60000, 28, 28)"
            ]
          },
          "metadata": {
            "tags": []
          },
          "execution_count": 3
        }
      ]
    },
    {
      "cell_type": "code",
      "metadata": {
        "id": "tTZrujRV55Gi"
      },
      "source": [
        "X_valid = X_train1[:6000]/255\n",
        "y_valid = y_train1[:6000]\n",
        "X_train = X_train1[6000:]/255\n",
        "y_train = y_train1[6000:]"
      ],
      "execution_count": 4,
      "outputs": []
    },
    {
      "cell_type": "code",
      "metadata": {
        "colab": {
          "base_uri": "https://localhost:8080/",
          "height": 265
        },
        "id": "tKSW-jYr6XV0",
        "outputId": "5f0a48e8-b3a0-4827-b166-c4c28e21cbbf"
      },
      "source": [
        "plt.imshow(X_train[2019],cmap=\"binary\")\n",
        "plt.show()"
      ],
      "execution_count": 5,
      "outputs": [
        {
          "output_type": "display_data",
          "data": {
            "image/png": "[encoded data removed]",
            "text/plain": [
              "<Figure size 432x288 with 1 Axes>"
            ]
          },
          "metadata": {
            "tags": [],
            "needs_background": "light"
          }
        }
      ]
    },
    {
      "cell_type": "markdown",
      "metadata": {
        "id": "zbq5VQhZdR2l"
      },
      "source": [
        "# Defining Layers to neural network"
      ]
    },
    {
      "cell_type": "code",
      "metadata": {
        "id": "MUVresaC6uJp"
      },
      "source": [
        "LAYERS = [tf.keras.layers.Flatten(input_shape=[28, 28], name=\"inputLayer\"),\n",
        "          tf.keras.layers.Dense(500, activation=\"relu\", name=\"hiddenLayer1\"),\n",
        "          tf.keras.layers.Dense(250, activation=\"relu\", name=\"hiddenLayer2\"),\n",
        "          tf.keras.layers.Dense(50, activation=\"relu\",name=\"hiddenLayer3\"),\n",
        "          tf.keras.layers.Dense(10, activation=\"softmax\", name=\"outputLayer\")]\n",
        "\n",
        "model = tf.keras.models.Sequential(LAYERS)"
      ],
      "execution_count": 8,
      "outputs": []
    },
    {
      "cell_type": "code",
      "metadata": {
        "colab": {
          "base_uri": "https://localhost:8080/"
        },
        "id": "tn5VRvx5VbdP",
        "outputId": "8c344f3b-1daa-4563-d651-876b069dc2ce"
      },
      "source": [
        "model.summary()"
      ],
      "execution_count": 9,
      "outputs": [
        {
          "output_type": "stream",
          "text": [
            "Model: \"sequential\"\n",
            "_________________________________________________________________\n",
            "Layer (type)                 Output Shape              Param #   \n",
            "=================================================================\n",
            "inputLayer (Flatten)         (None, 784)               0         \n",
            "_________________________________________________________________\n",
            "hiddenLayer1 (Dense)         (None, 500)               392500    \n",
            "_________________________________________________________________\n",
            "hiddenLayer2 (Dense)         (None, 250)               125250    \n",
            "_________________________________________________________________\n",
            "hiddenLayer3 (Dense)         (None, 50)                12550     \n",
            "_________________________________________________________________\n",
            "outputLayer (Dense)          (None, 10)                510       \n",
            "=================================================================\n",
            "Total params: 530,810\n",
            "Trainable params: 530,810\n",
            "Non-trainable params: 0\n",
            "_________________________________________________________________\n"
          ],
          "name": "stdout"
        }
      ]
    },
    {
      "cell_type": "markdown",
      "metadata": {
        "id": "-58EdajqdaSF"
      },
      "source": [
        "# Model Training"
      ]
    },
    {
      "cell_type": "code",
      "metadata": {
        "id": "MHLAKZRZV9rt"
      },
      "source": [
        "model.compile(loss=\"sparse_categorical_crossentropy\",optimizer=\"SGD\",metrics=['accuracy'])"
      ],
      "execution_count": 10,
      "outputs": []
    },
    {
      "cell_type": "code",
      "metadata": {
        "colab": {
          "base_uri": "https://localhost:8080/"
        },
        "id": "ZsqWQexdWWzz",
        "outputId": "81f41c71-bd4a-4df0-834e-f8fbe8aa1a09"
      },
      "source": [
        "log = model.fit(X_train,y_train,epochs=50,validation_data=(X_valid,y_valid))"
      ],
      "execution_count": 11,
      "outputs": [
        {
          "output_type": "stream",
          "text": [
            "Epoch 1/50\n",
            "1688/1688 [==============================] - 9s 4ms/step - loss: 0.9748 - accuracy: 0.7347 - val_loss: 0.2617 - val_accuracy: 0.9263\n",
            "Epoch 2/50\n",
            "1688/1688 [==============================] - 6s 3ms/step - loss: 0.2690 - accuracy: 0.9223 - val_loss: 0.2056 - val_accuracy: 0.9407\n",
            "Epoch 3/50\n",
            "1688/1688 [==============================] - 6s 3ms/step - loss: 0.1977 - accuracy: 0.9419 - val_loss: 0.1621 - val_accuracy: 0.9533\n",
            "Epoch 4/50\n",
            "1688/1688 [==============================] - 6s 3ms/step - loss: 0.1631 - accuracy: 0.9533 - val_loss: 0.1445 - val_accuracy: 0.9575\n",
            "Epoch 5/50\n",
            "1688/1688 [==============================] - 6s 3ms/step - loss: 0.1316 - accuracy: 0.9612 - val_loss: 0.1241 - val_accuracy: 0.9642\n",
            "Epoch 6/50\n",
            "1688/1688 [==============================] - 6s 3ms/step - loss: 0.1125 - accuracy: 0.9673 - val_loss: 0.1172 - val_accuracy: 0.9668\n",
            "Epoch 7/50\n",
            "1688/1688 [==============================] - 6s 3ms/step - loss: 0.0976 - accuracy: 0.9709 - val_loss: 0.1152 - val_accuracy: 0.9645\n",
            "Epoch 8/50\n",
            "1688/1688 [==============================] - 6s 3ms/step - loss: 0.0878 - accuracy: 0.9755 - val_loss: 0.0949 - val_accuracy: 0.9713\n",
            "Epoch 9/50\n",
            "1688/1688 [==============================] - 6s 3ms/step - loss: 0.0726 - accuracy: 0.9790 - val_loss: 0.0943 - val_accuracy: 0.9727\n",
            "Epoch 10/50\n",
            "1688/1688 [==============================] - 6s 3ms/step - loss: 0.0634 - accuracy: 0.9818 - val_loss: 0.0880 - val_accuracy: 0.9722\n",
            "Epoch 11/50\n",
            "1688/1688 [==============================] - 6s 3ms/step - loss: 0.0589 - accuracy: 0.9839 - val_loss: 0.0891 - val_accuracy: 0.9723\n",
            "Epoch 12/50\n",
            "1688/1688 [==============================] - 6s 3ms/step - loss: 0.0508 - accuracy: 0.9855 - val_loss: 0.0843 - val_accuracy: 0.9740\n",
            "Epoch 13/50\n",
            "1688/1688 [==============================] - 6s 3ms/step - loss: 0.0444 - accuracy: 0.9876 - val_loss: 0.0827 - val_accuracy: 0.9745\n",
            "Epoch 14/50\n",
            "1688/1688 [==============================] - 6s 3ms/step - loss: 0.0415 - accuracy: 0.9892 - val_loss: 0.0825 - val_accuracy: 0.9757\n",
            "Epoch 15/50\n",
            "1688/1688 [==============================] - 6s 3ms/step - loss: 0.0384 - accuracy: 0.9909 - val_loss: 0.0792 - val_accuracy: 0.9763\n",
            "Epoch 16/50\n",
            "1688/1688 [==============================] - 6s 3ms/step - loss: 0.0325 - accuracy: 0.9922 - val_loss: 0.0758 - val_accuracy: 0.9767\n",
            "Epoch 17/50\n",
            "1688/1688 [==============================] - 6s 3ms/step - loss: 0.0275 - accuracy: 0.9937 - val_loss: 0.0745 - val_accuracy: 0.9778\n",
            "Epoch 18/50\n",
            "1688/1688 [==============================] - 6s 3ms/step - loss: 0.0266 - accuracy: 0.9939 - val_loss: 0.0771 - val_accuracy: 0.9770\n",
            "Epoch 19/50\n",
            "1688/1688 [==============================] - 6s 3ms/step - loss: 0.0241 - accuracy: 0.9945 - val_loss: 0.0756 - val_accuracy: 0.9777\n",
            "Epoch 20/50\n",
            "1688/1688 [==============================] - 6s 3ms/step - loss: 0.0195 - accuracy: 0.9963 - val_loss: 0.0766 - val_accuracy: 0.9775\n",
            "Epoch 21/50\n",
            "1688/1688 [==============================] - 6s 3ms/step - loss: 0.0173 - accuracy: 0.9968 - val_loss: 0.0761 - val_accuracy: 0.9778\n",
            "Epoch 22/50\n",
            "1688/1688 [==============================] - 6s 3ms/step - loss: 0.0157 - accuracy: 0.9969 - val_loss: 0.0780 - val_accuracy: 0.9777\n",
            "Epoch 23/50\n",
            "1688/1688 [==============================] - 6s 3ms/step - loss: 0.0143 - accuracy: 0.9977 - val_loss: 0.0764 - val_accuracy: 0.9783\n",
            "Epoch 24/50\n",
            "1688/1688 [==============================] - 6s 3ms/step - loss: 0.0122 - accuracy: 0.9981 - val_loss: 0.0760 - val_accuracy: 0.9795\n",
            "Epoch 25/50\n",
            "1688/1688 [==============================] - 6s 3ms/step - loss: 0.0110 - accuracy: 0.9987 - val_loss: 0.0758 - val_accuracy: 0.9777\n",
            "Epoch 26/50\n",
            "1688/1688 [==============================] - 6s 3ms/step - loss: 0.0106 - accuracy: 0.9988 - val_loss: 0.0773 - val_accuracy: 0.9790\n",
            "Epoch 27/50\n",
            "1688/1688 [==============================] - 6s 3ms/step - loss: 0.0092 - accuracy: 0.9990 - val_loss: 0.0762 - val_accuracy: 0.9800\n",
            "Epoch 28/50\n",
            "1688/1688 [==============================] - 6s 3ms/step - loss: 0.0080 - accuracy: 0.9993 - val_loss: 0.0752 - val_accuracy: 0.9797\n",
            "Epoch 29/50\n",
            "1688/1688 [==============================] - 6s 3ms/step - loss: 0.0079 - accuracy: 0.9992 - val_loss: 0.0784 - val_accuracy: 0.9780\n",
            "Epoch 30/50\n",
            "1688/1688 [==============================] - 6s 3ms/step - loss: 0.0073 - accuracy: 0.9993 - val_loss: 0.0771 - val_accuracy: 0.9793\n",
            "Epoch 31/50\n",
            "1688/1688 [==============================] - 6s 3ms/step - loss: 0.0059 - accuracy: 0.9996 - val_loss: 0.0768 - val_accuracy: 0.9790\n",
            "Epoch 32/50\n",
            "1688/1688 [==============================] - 6s 3ms/step - loss: 0.0056 - accuracy: 0.9997 - val_loss: 0.0774 - val_accuracy: 0.9795\n",
            "Epoch 33/50\n",
            "1688/1688 [==============================] - 6s 3ms/step - loss: 0.0050 - accuracy: 0.9997 - val_loss: 0.0778 - val_accuracy: 0.9802\n",
            "Epoch 34/50\n",
            "1688/1688 [==============================] - 6s 3ms/step - loss: 0.0045 - accuracy: 0.9998 - val_loss: 0.0793 - val_accuracy: 0.9788\n",
            "Epoch 35/50\n",
            "1688/1688 [==============================] - 6s 3ms/step - loss: 0.0044 - accuracy: 0.9998 - val_loss: 0.0781 - val_accuracy: 0.9812\n",
            "Epoch 36/50\n",
            "1688/1688 [==============================] - 6s 3ms/step - loss: 0.0039 - accuracy: 0.9998 - val_loss: 0.0789 - val_accuracy: 0.9802\n",
            "Epoch 37/50\n",
            "1688/1688 [==============================] - 6s 3ms/step - loss: 0.0035 - accuracy: 0.9999 - val_loss: 0.0803 - val_accuracy: 0.9803\n",
            "Epoch 38/50\n",
            "1688/1688 [==============================] - 6s 4ms/step - loss: 0.0034 - accuracy: 0.9998 - val_loss: 0.0799 - val_accuracy: 0.9800\n",
            "Epoch 39/50\n",
            "1688/1688 [==============================] - 6s 3ms/step - loss: 0.0033 - accuracy: 0.9999 - val_loss: 0.0805 - val_accuracy: 0.9798\n",
            "Epoch 40/50\n",
            "1688/1688 [==============================] - 6s 3ms/step - loss: 0.0029 - accuracy: 0.9999 - val_loss: 0.0809 - val_accuracy: 0.9793\n",
            "Epoch 41/50\n",
            "1688/1688 [==============================] - 6s 3ms/step - loss: 0.0027 - accuracy: 1.0000 - val_loss: 0.0803 - val_accuracy: 0.9803\n",
            "Epoch 42/50\n",
            "1688/1688 [==============================] - 6s 3ms/step - loss: 0.0026 - accuracy: 1.0000 - val_loss: 0.0813 - val_accuracy: 0.9803\n",
            "Epoch 43/50\n",
            "1688/1688 [==============================] - 6s 3ms/step - loss: 0.0025 - accuracy: 0.9999 - val_loss: 0.0826 - val_accuracy: 0.9793\n",
            "Epoch 44/50\n",
            "1688/1688 [==============================] - 6s 3ms/step - loss: 0.0024 - accuracy: 1.0000 - val_loss: 0.0814 - val_accuracy: 0.9803\n",
            "Epoch 45/50\n",
            "1688/1688 [==============================] - 6s 3ms/step - loss: 0.0023 - accuracy: 1.0000 - val_loss: 0.0821 - val_accuracy: 0.9810\n",
            "Epoch 46/50\n",
            "1688/1688 [==============================] - 6s 3ms/step - loss: 0.0021 - accuracy: 1.0000 - val_loss: 0.0836 - val_accuracy: 0.9802\n",
            "Epoch 47/50\n",
            "1688/1688 [==============================] - 6s 3ms/step - loss: 0.0020 - accuracy: 1.0000 - val_loss: 0.0829 - val_accuracy: 0.9800\n",
            "Epoch 48/50\n",
            "1688/1688 [==============================] - 6s 3ms/step - loss: 0.0019 - accuracy: 1.0000 - val_loss: 0.0831 - val_accuracy: 0.9805\n",
            "Epoch 49/50\n",
            "1688/1688 [==============================] - 6s 3ms/step - loss: 0.0018 - accuracy: 1.0000 - val_loss: 0.0840 - val_accuracy: 0.9803\n",
            "Epoch 50/50\n",
            "1688/1688 [==============================] - 6s 3ms/step - loss: 0.0017 - accuracy: 1.0000 - val_loss: 0.0838 - val_accuracy: 0.9798\n"
          ],
          "name": "stdout"
        }
      ]
    },
    {
      "cell_type": "code",
      "metadata": {
        "id": "RNXrMWnkXCb8"
      },
      "source": [
        "import time\n",
        "import os\n",
        "\n",
        "def saveModel_path(model_dir=\"SAVED_MODELS\"):\n",
        "    os.makedirs(model_dir, exist_ok=True)\n",
        "    fileName = time.strftime(\"Model_%Y_%m_%d_%H_%M_%S_.h5\")    \n",
        "    model_path = os.path.join(model_dir, fileName)\n",
        "    print(f\"your model will be saved at : \\n{model_path}\")\n",
        "    return model_path"
      ],
      "execution_count": 13,
      "outputs": []
    },
    {
      "cell_type": "code",
      "metadata": {
        "colab": {
          "base_uri": "https://localhost:8080/"
        },
        "id": "IGbL38pmYVit",
        "outputId": "7460e3c8-f2c6-4d6e-ef69-c6df224ef179"
      },
      "source": [
        "UNIQUE_PATH = model.save(saveModel_path())"
      ],
      "execution_count": 14,
      "outputs": [
        {
          "output_type": "stream",
          "text": [
            "your model will be saved at : \n",
            "SAVED_MODELS/Model_2021_04_06_13_31_47_.h5\n"
          ],
          "name": "stdout"
        }
      ]
    },
    {
      "cell_type": "code",
      "metadata": {
        "colab": {
          "base_uri": "https://localhost:8080/"
        },
        "id": "n2lnhUzYYc-g",
        "outputId": "4532c863-0ec3-4c09-a503-f7a7dc5976a9"
      },
      "source": [
        "log.params"
      ],
      "execution_count": 16,
      "outputs": [
        {
          "output_type": "execute_result",
          "data": {
            "text/plain": [
              "{'epochs': 50, 'steps': 1688, 'verbose': 1}"
            ]
          },
          "metadata": {
            "tags": []
          },
          "execution_count": 16
        }
      ]
    },
    {
      "cell_type": "markdown",
      "metadata": {
        "id": "E5G8JoPQdwk9"
      },
      "source": [
        "# Model Evaluation"
      ]
    },
    {
      "cell_type": "code",
      "metadata": {
        "colab": {
          "base_uri": "https://localhost:8080/",
          "height": 1000
        },
        "id": "ioLGJDh6YgQX",
        "outputId": "a26fc604-b6e7-446b-a54e-9af12b0faf11"
      },
      "source": [
        "pd.DataFrame(log.history)"
      ],
      "execution_count": 17,
      "outputs": [
        {
          "output_type": "execute_result",
          "data": {
            "text/html": [
              "<div>\n",
              "<style scoped>\n",
              "    .dataframe tbody tr th:only-of-type {\n",
              "        vertical-align: middle;\n",
              "    }\n",
              "\n",
              "    .dataframe tbody tr th {\n",
              "        vertical-align: top;\n",
              "    }\n",
              "\n",
              "    .dataframe thead th {\n",
              "        text-align: right;\n",
              "    }\n",
              "</style>\n",
              "<table border=\"1\" class=\"dataframe\">\n",
              "  <thead>\n",
              "    <tr style=\"text-align: right;\">\n",
              "      <th></th>\n",
              "      <th>loss</th>\n",
              "      <th>accuracy</th>\n",
              "      <th>val_loss</th>\n",
              "      <th>val_accuracy</th>\n",
              "    </tr>\n",
              "  </thead>\n",
              "  <tbody>\n",
              "    <tr>\n",
              "      <th>0</th>\n",
              "      <td>0.556579</td>\n",
              "      <td>0.850741</td>\n",
              "      <td>0.261700</td>\n",
              "      <td>0.926333</td>\n",
              "    </tr>\n",
              "    <tr>\n",
              "      <th>1</th>\n",
              "      <td>0.247157</td>\n",
              "      <td>0.927389</td>\n",
              "      <td>0.205564</td>\n",
              "      <td>0.940667</td>\n",
              "    </tr>\n",
              "    <tr>\n",
              "      <th>2</th>\n",
              "      <td>0.192122</td>\n",
              "      <td>0.943685</td>\n",
              "      <td>0.162073</td>\n",
              "      <td>0.953333</td>\n",
              "    </tr>\n",
              "    <tr>\n",
              "      <th>3</th>\n",
              "      <td>0.156945</td>\n",
              "      <td>0.954778</td>\n",
              "      <td>0.144453</td>\n",
              "      <td>0.957500</td>\n",
              "    </tr>\n",
              "    <tr>\n",
              "      <th>4</th>\n",
              "      <td>0.132435</td>\n",
              "      <td>0.961370</td>\n",
              "      <td>0.124126</td>\n",
              "      <td>0.964167</td>\n",
              "    </tr>\n",
              "    <tr>\n",
              "      <th>5</th>\n",
              "      <td>0.113686</td>\n",
              "      <td>0.966926</td>\n",
              "      <td>0.117166</td>\n",
              "      <td>0.966833</td>\n",
              "    </tr>\n",
              "    <tr>\n",
              "      <th>6</th>\n",
              "      <td>0.098452</td>\n",
              "      <td>0.971333</td>\n",
              "      <td>0.115236</td>\n",
              "      <td>0.964500</td>\n",
              "    </tr>\n",
              "    <tr>\n",
              "      <th>7</th>\n",
              "      <td>0.086152</td>\n",
              "      <td>0.975667</td>\n",
              "      <td>0.094875</td>\n",
              "      <td>0.971333</td>\n",
              "    </tr>\n",
              "    <tr>\n",
              "      <th>8</th>\n",
              "      <td>0.075633</td>\n",
              "      <td>0.978093</td>\n",
              "      <td>0.094344</td>\n",
              "      <td>0.972667</td>\n",
              "    </tr>\n",
              "    <tr>\n",
              "      <th>9</th>\n",
              "      <td>0.066944</td>\n",
              "      <td>0.980667</td>\n",
              "      <td>0.088038</td>\n",
              "      <td>0.972167</td>\n",
              "    </tr>\n",
              "    <tr>\n",
              "      <th>10</th>\n",
              "      <td>0.058968</td>\n",
              "      <td>0.983481</td>\n",
              "      <td>0.089062</td>\n",
              "      <td>0.972333</td>\n",
              "    </tr>\n",
              "    <tr>\n",
              "      <th>11</th>\n",
              "      <td>0.052875</td>\n",
              "      <td>0.985093</td>\n",
              "      <td>0.084301</td>\n",
              "      <td>0.974000</td>\n",
              "    </tr>\n",
              "    <tr>\n",
              "      <th>12</th>\n",
              "      <td>0.046973</td>\n",
              "      <td>0.986870</td>\n",
              "      <td>0.082651</td>\n",
              "      <td>0.974500</td>\n",
              "    </tr>\n",
              "    <tr>\n",
              "      <th>13</th>\n",
              "      <td>0.041706</td>\n",
              "      <td>0.989111</td>\n",
              "      <td>0.082481</td>\n",
              "      <td>0.975667</td>\n",
              "    </tr>\n",
              "    <tr>\n",
              "      <th>14</th>\n",
              "      <td>0.036603</td>\n",
              "      <td>0.990944</td>\n",
              "      <td>0.079161</td>\n",
              "      <td>0.976333</td>\n",
              "    </tr>\n",
              "    <tr>\n",
              "      <th>15</th>\n",
              "      <td>0.032929</td>\n",
              "      <td>0.991852</td>\n",
              "      <td>0.075848</td>\n",
              "      <td>0.976667</td>\n",
              "    </tr>\n",
              "    <tr>\n",
              "      <th>16</th>\n",
              "      <td>0.029588</td>\n",
              "      <td>0.992407</td>\n",
              "      <td>0.074504</td>\n",
              "      <td>0.977833</td>\n",
              "    </tr>\n",
              "    <tr>\n",
              "      <th>17</th>\n",
              "      <td>0.026156</td>\n",
              "      <td>0.993722</td>\n",
              "      <td>0.077143</td>\n",
              "      <td>0.977000</td>\n",
              "    </tr>\n",
              "    <tr>\n",
              "      <th>18</th>\n",
              "      <td>0.023381</td>\n",
              "      <td>0.994593</td>\n",
              "      <td>0.075639</td>\n",
              "      <td>0.977667</td>\n",
              "    </tr>\n",
              "    <tr>\n",
              "      <th>19</th>\n",
              "      <td>0.020753</td>\n",
              "      <td>0.995870</td>\n",
              "      <td>0.076582</td>\n",
              "      <td>0.977500</td>\n",
              "    </tr>\n",
              "    <tr>\n",
              "      <th>20</th>\n",
              "      <td>0.018601</td>\n",
              "      <td>0.996648</td>\n",
              "      <td>0.076120</td>\n",
              "      <td>0.977833</td>\n",
              "    </tr>\n",
              "    <tr>\n",
              "      <th>21</th>\n",
              "      <td>0.016355</td>\n",
              "      <td>0.996963</td>\n",
              "      <td>0.078009</td>\n",
              "      <td>0.977667</td>\n",
              "    </tr>\n",
              "    <tr>\n",
              "      <th>22</th>\n",
              "      <td>0.014690</td>\n",
              "      <td>0.997759</td>\n",
              "      <td>0.076408</td>\n",
              "      <td>0.978333</td>\n",
              "    </tr>\n",
              "    <tr>\n",
              "      <th>23</th>\n",
              "      <td>0.013323</td>\n",
              "      <td>0.997704</td>\n",
              "      <td>0.075965</td>\n",
              "      <td>0.979500</td>\n",
              "    </tr>\n",
              "    <tr>\n",
              "      <th>24</th>\n",
              "      <td>0.011773</td>\n",
              "      <td>0.998333</td>\n",
              "      <td>0.075797</td>\n",
              "      <td>0.977667</td>\n",
              "    </tr>\n",
              "    <tr>\n",
              "      <th>25</th>\n",
              "      <td>0.010669</td>\n",
              "      <td>0.998778</td>\n",
              "      <td>0.077300</td>\n",
              "      <td>0.979000</td>\n",
              "    </tr>\n",
              "    <tr>\n",
              "      <th>26</th>\n",
              "      <td>0.009493</td>\n",
              "      <td>0.998963</td>\n",
              "      <td>0.076193</td>\n",
              "      <td>0.980000</td>\n",
              "    </tr>\n",
              "    <tr>\n",
              "      <th>27</th>\n",
              "      <td>0.008742</td>\n",
              "      <td>0.999000</td>\n",
              "      <td>0.075152</td>\n",
              "      <td>0.979667</td>\n",
              "    </tr>\n",
              "    <tr>\n",
              "      <th>28</th>\n",
              "      <td>0.007915</td>\n",
              "      <td>0.999148</td>\n",
              "      <td>0.078421</td>\n",
              "      <td>0.978000</td>\n",
              "    </tr>\n",
              "    <tr>\n",
              "      <th>29</th>\n",
              "      <td>0.007223</td>\n",
              "      <td>0.999370</td>\n",
              "      <td>0.077101</td>\n",
              "      <td>0.979333</td>\n",
              "    </tr>\n",
              "    <tr>\n",
              "      <th>30</th>\n",
              "      <td>0.006394</td>\n",
              "      <td>0.999407</td>\n",
              "      <td>0.076783</td>\n",
              "      <td>0.979000</td>\n",
              "    </tr>\n",
              "    <tr>\n",
              "      <th>31</th>\n",
              "      <td>0.005822</td>\n",
              "      <td>0.999593</td>\n",
              "      <td>0.077397</td>\n",
              "      <td>0.979500</td>\n",
              "    </tr>\n",
              "    <tr>\n",
              "      <th>32</th>\n",
              "      <td>0.005355</td>\n",
              "      <td>0.999611</td>\n",
              "      <td>0.077790</td>\n",
              "      <td>0.980167</td>\n",
              "    </tr>\n",
              "    <tr>\n",
              "      <th>33</th>\n",
              "      <td>0.004860</td>\n",
              "      <td>0.999704</td>\n",
              "      <td>0.079261</td>\n",
              "      <td>0.978833</td>\n",
              "    </tr>\n",
              "    <tr>\n",
              "      <th>34</th>\n",
              "      <td>0.004476</td>\n",
              "      <td>0.999759</td>\n",
              "      <td>0.078090</td>\n",
              "      <td>0.981167</td>\n",
              "    </tr>\n",
              "    <tr>\n",
              "      <th>35</th>\n",
              "      <td>0.004113</td>\n",
              "      <td>0.999741</td>\n",
              "      <td>0.078936</td>\n",
              "      <td>0.980167</td>\n",
              "    </tr>\n",
              "    <tr>\n",
              "      <th>36</th>\n",
              "      <td>0.003808</td>\n",
              "      <td>0.999796</td>\n",
              "      <td>0.080262</td>\n",
              "      <td>0.980333</td>\n",
              "    </tr>\n",
              "    <tr>\n",
              "      <th>37</th>\n",
              "      <td>0.003484</td>\n",
              "      <td>0.999815</td>\n",
              "      <td>0.079921</td>\n",
              "      <td>0.980000</td>\n",
              "    </tr>\n",
              "    <tr>\n",
              "      <th>38</th>\n",
              "      <td>0.003302</td>\n",
              "      <td>0.999833</td>\n",
              "      <td>0.080518</td>\n",
              "      <td>0.979833</td>\n",
              "    </tr>\n",
              "    <tr>\n",
              "      <th>39</th>\n",
              "      <td>0.003082</td>\n",
              "      <td>0.999907</td>\n",
              "      <td>0.080919</td>\n",
              "      <td>0.979333</td>\n",
              "    </tr>\n",
              "    <tr>\n",
              "      <th>40</th>\n",
              "      <td>0.002838</td>\n",
              "      <td>0.999907</td>\n",
              "      <td>0.080267</td>\n",
              "      <td>0.980333</td>\n",
              "    </tr>\n",
              "    <tr>\n",
              "      <th>41</th>\n",
              "      <td>0.002656</td>\n",
              "      <td>0.999981</td>\n",
              "      <td>0.081330</td>\n",
              "      <td>0.980333</td>\n",
              "    </tr>\n",
              "    <tr>\n",
              "      <th>42</th>\n",
              "      <td>0.002571</td>\n",
              "      <td>0.999889</td>\n",
              "      <td>0.082594</td>\n",
              "      <td>0.979333</td>\n",
              "    </tr>\n",
              "    <tr>\n",
              "      <th>43</th>\n",
              "      <td>0.002392</td>\n",
              "      <td>1.000000</td>\n",
              "      <td>0.081397</td>\n",
              "      <td>0.980333</td>\n",
              "    </tr>\n",
              "    <tr>\n",
              "      <th>44</th>\n",
              "      <td>0.002258</td>\n",
              "      <td>0.999981</td>\n",
              "      <td>0.082136</td>\n",
              "      <td>0.981000</td>\n",
              "    </tr>\n",
              "    <tr>\n",
              "      <th>45</th>\n",
              "      <td>0.002154</td>\n",
              "      <td>0.999981</td>\n",
              "      <td>0.083571</td>\n",
              "      <td>0.980167</td>\n",
              "    </tr>\n",
              "    <tr>\n",
              "      <th>46</th>\n",
              "      <td>0.002057</td>\n",
              "      <td>1.000000</td>\n",
              "      <td>0.082928</td>\n",
              "      <td>0.980000</td>\n",
              "    </tr>\n",
              "    <tr>\n",
              "      <th>47</th>\n",
              "      <td>0.001932</td>\n",
              "      <td>0.999981</td>\n",
              "      <td>0.083113</td>\n",
              "      <td>0.980500</td>\n",
              "    </tr>\n",
              "    <tr>\n",
              "      <th>48</th>\n",
              "      <td>0.001857</td>\n",
              "      <td>0.999963</td>\n",
              "      <td>0.084015</td>\n",
              "      <td>0.980333</td>\n",
              "    </tr>\n",
              "    <tr>\n",
              "      <th>49</th>\n",
              "      <td>0.001756</td>\n",
              "      <td>1.000000</td>\n",
              "      <td>0.083807</td>\n",
              "      <td>0.979833</td>\n",
              "    </tr>\n",
              "  </tbody>\n",
              "</table>\n",
              "</div>"
            ],
            "text/plain": [
              "        loss  accuracy  val_loss  val_accuracy\n",
              "0   0.556579  0.850741  0.261700      0.926333\n",
              "1   0.247157  0.927389  0.205564      0.940667\n",
              "2   0.192122  0.943685  0.162073      0.953333\n",
              "3   0.156945  0.954778  0.144453      0.957500\n",
              "4   0.132435  0.961370  0.124126      0.964167\n",
              "5   0.113686  0.966926  0.117166      0.966833\n",
              "6   0.098452  0.971333  0.115236      0.964500\n",
              "7   0.086152  0.975667  0.094875      0.971333\n",
              "8   0.075633  0.978093  0.094344      0.972667\n",
              "9   0.066944  0.980667  0.088038      0.972167\n",
              "10  0.058968  0.983481  0.089062      0.972333\n",
              "11  0.052875  0.985093  0.084301      0.974000\n",
              "12  0.046973  0.986870  0.082651      0.974500\n",
              "13  0.041706  0.989111  0.082481      0.975667\n",
              "14  0.036603  0.990944  0.079161      0.976333\n",
              "15  0.032929  0.991852  0.075848      0.976667\n",
              "16  0.029588  0.992407  0.074504      0.977833\n",
              "17  0.026156  0.993722  0.077143      0.977000\n",
              "18  0.023381  0.994593  0.075639      0.977667\n",
              "19  0.020753  0.995870  0.076582      0.977500\n",
              "20  0.018601  0.996648  0.076120      0.977833\n",
              "21  0.016355  0.996963  0.078009      0.977667\n",
              "22  0.014690  0.997759  0.076408      0.978333\n",
              "23  0.013323  0.997704  0.075965      0.979500\n",
              "24  0.011773  0.998333  0.075797      0.977667\n",
              "25  0.010669  0.998778  0.077300      0.979000\n",
              "26  0.009493  0.998963  0.076193      0.980000\n",
              "27  0.008742  0.999000  0.075152      0.979667\n",
              "28  0.007915  0.999148  0.078421      0.978000\n",
              "29  0.007223  0.999370  0.077101      0.979333\n",
              "30  0.006394  0.999407  0.076783      0.979000\n",
              "31  0.005822  0.999593  0.077397      0.979500\n",
              "32  0.005355  0.999611  0.077790      0.980167\n",
              "33  0.004860  0.999704  0.079261      0.978833\n",
              "34  0.004476  0.999759  0.078090      0.981167\n",
              "35  0.004113  0.999741  0.078936      0.980167\n",
              "36  0.003808  0.999796  0.080262      0.980333\n",
              "37  0.003484  0.999815  0.079921      0.980000\n",
              "38  0.003302  0.999833  0.080518      0.979833\n",
              "39  0.003082  0.999907  0.080919      0.979333\n",
              "40  0.002838  0.999907  0.080267      0.980333\n",
              "41  0.002656  0.999981  0.081330      0.980333\n",
              "42  0.002571  0.999889  0.082594      0.979333\n",
              "43  0.002392  1.000000  0.081397      0.980333\n",
              "44  0.002258  0.999981  0.082136      0.981000\n",
              "45  0.002154  0.999981  0.083571      0.980167\n",
              "46  0.002057  1.000000  0.082928      0.980000\n",
              "47  0.001932  0.999981  0.083113      0.980500\n",
              "48  0.001857  0.999963  0.084015      0.980333\n",
              "49  0.001756  1.000000  0.083807      0.979833"
            ]
          },
          "metadata": {
            "tags": []
          },
          "execution_count": 17
        }
      ]
    },
    {
      "cell_type": "code",
      "metadata": {
        "colab": {
          "base_uri": "https://localhost:8080/",
          "height": 324
        },
        "id": "tNxjWY__YooA",
        "outputId": "66d59019-470c-460d-9419-eb5bc52adb0c"
      },
      "source": [
        "pd.DataFrame(log.history).plot(figsize=(8, 5))\n",
        "plt.grid(True)\n",
        "plt.gca().set_ylim(0, 1)\n",
        "plt.show()"
      ],
      "execution_count": 18,
      "outputs": [
        {
          "output_type": "display_data",
          "data": {
            "image/png": "[encoded data removed]",
            "text/plain": [
              "<Figure size 576x360 with 1 Axes>"
            ]
          },
          "metadata": {
            "tags": [],
            "needs_background": "light"
          }
        }
      ]
    },
    {
      "cell_type": "code",
      "metadata": {
        "colab": {
          "base_uri": "https://localhost:8080/"
        },
        "id": "jGdQFrCFY3LW",
        "outputId": "1e8889fd-3562-47fa-b700-9db421e8bb79"
      },
      "source": [
        "model.evaluate(X_test, y_test)"
      ],
      "execution_count": 19,
      "outputs": [
        {
          "output_type": "stream",
          "text": [
            "313/313 [==============================] - 1s 3ms/step - loss: 20.1336 - accuracy: 0.9752\n"
          ],
          "name": "stdout"
        },
        {
          "output_type": "execute_result",
          "data": {
            "text/plain": [
              "[20.1335506439209, 0.9751999974250793]"
            ]
          },
          "metadata": {
            "tags": []
          },
          "execution_count": 19
        }
      ]
    },
    {
      "cell_type": "code",
      "metadata": {
        "colab": {
          "base_uri": "https://localhost:8080/"
        },
        "id": "-fzY3Yi1Y_ET",
        "outputId": "bc26ad06-5150-45a4-9b8c-25c287c60838"
      },
      "source": [
        "X_new = X_test[123:127]\n",
        "y_proba = model.predict(X_new)\n",
        "y_proba.round(2)"
      ],
      "execution_count": 22,
      "outputs": [
        {
          "output_type": "execute_result",
          "data": {
            "text/plain": [
              "array([[0., 0., 0., 0., 0., 0., 1., 0., 0., 0.],\n",
              "       [0., 0., 0., 0., 0., 0., 0., 1., 0., 0.],\n",
              "       [0., 0., 0., 0., 0., 0., 0., 0., 0., 1.],\n",
              "       [1., 0., 0., 0., 0., 0., 0., 0., 0., 0.]], dtype=float32)"
            ]
          },
          "metadata": {
            "tags": []
          },
          "execution_count": 22
        }
      ]
    },
    {
      "cell_type": "code",
      "metadata": {
        "colab": {
          "base_uri": "https://localhost:8080/"
        },
        "id": "mb7sqHoiZaYM",
        "outputId": "7f0b0db5-7e68-44c7-f540-688a1d2daa26"
      },
      "source": [
        "y_pred = np.argmax(model.predict(X_new), axis=-1)\n",
        "y_pred"
      ],
      "execution_count": 23,
      "outputs": [
        {
          "output_type": "execute_result",
          "data": {
            "text/plain": [
              "array([6, 7, 9, 0])"
            ]
          },
          "metadata": {
            "tags": []
          },
          "execution_count": 23
        }
      ]
    },
    {
      "cell_type": "code",
      "metadata": {
        "id": "UM_drje4ZgER"
      },
      "source": [
        "y_test_smple = y_test[123:127]"
      ],
      "execution_count": 24,
      "outputs": []
    },
    {
      "cell_type": "markdown",
      "metadata": {
        "id": "HQtp4_7yd1UP"
      },
      "source": [
        "# Model Testing"
      ]
    },
    {
      "cell_type": "code",
      "metadata": {
        "colab": {
          "base_uri": "https://localhost:8080/",
          "height": 1000
        },
        "id": "vBWIFvbMaTOF",
        "outputId": "18752b25-f6ed-4b15-fd80-66bfc9cc0bb3"
      },
      "source": [
        "for data, pred, actual in zip(X_new, y_pred, y_test_smple):\n",
        "    plt.imshow(data, cmap=\"binary\")\n",
        "    plt.title(f\"Predicted: {pred}, Actual: {actual}\")\n",
        "    plt.axis('off')\n",
        "    plt.show()\n",
        "    print(\"---\"*20)"
      ],
      "execution_count": 25,
      "outputs": [
        {
          "output_type": "display_data",
          "data": {
            "image/png": "[encoded data removed]",
            "text/plain": [
              "<Figure size 432x288 with 1 Axes>"
            ]
          },
          "metadata": {
            "tags": [],
            "needs_background": "light"
          }
        },
        {
          "output_type": "stream",
          "text": [
            "------------------------------------------------------------\n"
          ],
          "name": "stdout"
        },
        {
          "output_type": "display_data",
          "data": {
            "image/png": "[encoded data removed]",
            "text/plain": [
              "<Figure size 432x288 with 1 Axes>"
            ]
          },
          "metadata": {
            "tags": [],
            "needs_background": "light"
          }
        },
        {
          "output_type": "stream",
          "text": [
            "------------------------------------------------------------\n"
          ],
          "name": "stdout"
        },
        {
          "output_type": "display_data",
          "data": {
            "image/png": "[encoded data removed]",
            "text/plain": [
              "<Figure size 432x288 with 1 Axes>"
            ]
          },
          "metadata": {
            "tags": [],
            "needs_background": "light"
          }
        },
        {
          "output_type": "stream",
          "text": [
            "------------------------------------------------------------\n"
          ],
          "name": "stdout"
        },
        {
          "output_type": "display_data",
          "data": {
            "image/png": "[encoded data removed]",
            "text/plain": [
              "<Figure size 432x288 with 1 Axes>"
            ]
          },
          "metadata": {
            "tags": [],
            "needs_background": "light"
          }
        },
        {
          "output_type": "stream",
          "text": [
            "------------------------------------------------------------\n"
          ],
          "name": "stdout"
        }
      ]
    }
  ]
}